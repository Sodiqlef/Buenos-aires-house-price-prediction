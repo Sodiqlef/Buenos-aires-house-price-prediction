{
 "cells": [
  {
   "cell_type": "code",
   "execution_count": 1,
   "id": "332648ab",
   "metadata": {},
   "outputs": [],
   "source": [
    "\n",
    "import pandas as pd\n",
    "import seaborn as sns\n",
    "from random import random\n",
    "\n",
    "from glob import glob\n",
    "from matplotlib import pyplot as plt\n",
    "from category_encoders import OneHotEncoder\n",
    "from sklearn.metrics import mean_absolute_error as mae\n",
    "from sklearn.linear_model import Ridge\n",
    "from sklearn.impute import SimpleImputer\n",
    "from sklearn.pipeline import make_pipeline"
   ]
  },
  {
   "cell_type": "code",
   "execution_count": 2,
   "id": "56833658",
   "metadata": {},
   "outputs": [],
   "source": [
    "def wrangle(filepath):\n",
    "    # read file path\n",
    "    df = pd.read_csv(filepath)\n",
    "    \n",
    "    # Filter to only apartments property type in buenos aires and drop the column\n",
    "    df = df[df[\"property_type\"] == \"apartment\"]\n",
    "    df.drop(columns=[\"property_type\"], inplace = True)\n",
    "    \n",
    "    # Filter to only Capital Federal district and drop place_with_parent_names column\n",
    "    df = df[df[\"place_with_parent_names\"].str.contains(\"Capital Federal\")]\n",
    "    \n",
    "    # Filter to a price not more than $400000 \n",
    "    df = df[df[\"price_aprox_usd\"] <= 500000]\n",
    "    \n",
    "    # Split lat and lon from lat-lon and drop the lat-lon column\n",
    "    df[[\"lat\", \"lon\"]] = df[\"lat-lon\"].str.split(\",\", expand=True).astype(float)\n",
    "    df.drop(columns=\"lat-lon\", inplace = True)\n",
    "    \n",
    "    # Drop features where more than half null values\n",
    "    df.drop(columns=[\"expenses\", \"rooms\", \"floor\"], inplace=True)\n",
    "    \n",
    "    # Split neighbourhood from place_with_parent_names and drop the column\n",
    "    df[\"neighbourhood\"] = df[\"place_with_parent_names\"].str.split(\"|\", expand=True)[3]\n",
    "    df.drop(columns=[\"place_with_parent_names\"], inplace=True)\n",
    "    \n",
    "    #Drop columns with high and low cardinality\n",
    "    df.drop(columns=[\"operation\", \"currency\", \"properati_url\"], inplace = True)\n",
    "    \n",
    "    # Drop columns with multicollinearlity\n",
    "    df.drop(columns=[\n",
    "        \"surface_total_in_m2\", \n",
    "        'price', \n",
    "        'price_aprox_local_currency', \n",
    "        'price_usd_per_m2', \n",
    "        'price_per_m2'], inplace=True)\n",
    "    \n",
    "    # Remove outliers from surface_covered_in_m2\n",
    "    low, high = df[\"surface_covered_in_m2\"].quantile([0.1, 0.9])\n",
    "    df = df[df[\"surface_covered_in_m2\"].between(low, high)]\n",
    "    return df"
   ]
  },
  {
   "cell_type": "code",
   "execution_count": 6,
   "id": "17779d59",
   "metadata": {},
   "outputs": [
    {
     "data": {
      "text/plain": [
       "['./static\\\\buenos-aires-real-estate-1.csv',\n",
       " './static\\\\buenos-aires-real-estate-2.csv']"
      ]
     },
     "execution_count": 6,
     "metadata": {},
     "output_type": "execute_result"
    }
   ],
   "source": [
    "files = glob(\"./static/buenos-aires-real-estate-*.csv\")\n",
    "files"
   ]
  },
  {
   "cell_type": "code",
   "execution_count": 7,
   "id": "e4398a49",
   "metadata": {},
   "outputs": [],
   "source": [
    "frames = []\n",
    "for file in files:\n",
    "    frames.append(wrangle(file))\n",
    "    \n",
    "df = pd.concat(frames)"
   ]
  },
  {
   "cell_type": "code",
   "execution_count": 8,
   "id": "d8bee8f6",
   "metadata": {},
   "outputs": [
    {
     "data": {
      "text/html": [
       "<div>\n",
       "<style scoped>\n",
       "    .dataframe tbody tr th:only-of-type {\n",
       "        vertical-align: middle;\n",
       "    }\n",
       "\n",
       "    .dataframe tbody tr th {\n",
       "        vertical-align: top;\n",
       "    }\n",
       "\n",
       "    .dataframe thead th {\n",
       "        text-align: right;\n",
       "    }\n",
       "</style>\n",
       "<table border=\"1\" class=\"dataframe\">\n",
       "  <thead>\n",
       "    <tr style=\"text-align: right;\">\n",
       "      <th></th>\n",
       "      <th>price_aprox_usd</th>\n",
       "      <th>surface_covered_in_m2</th>\n",
       "      <th>lat</th>\n",
       "      <th>lon</th>\n",
       "      <th>neighbourhood</th>\n",
       "    </tr>\n",
       "  </thead>\n",
       "  <tbody>\n",
       "    <tr>\n",
       "      <th>4</th>\n",
       "      <td>129000.0</td>\n",
       "      <td>70.0</td>\n",
       "      <td>-34.584651</td>\n",
       "      <td>-58.454693</td>\n",
       "      <td>Chacarita</td>\n",
       "    </tr>\n",
       "    <tr>\n",
       "      <th>9</th>\n",
       "      <td>87000.0</td>\n",
       "      <td>42.0</td>\n",
       "      <td>-34.638979</td>\n",
       "      <td>-58.500115</td>\n",
       "      <td>Villa Luro</td>\n",
       "    </tr>\n",
       "    <tr>\n",
       "      <th>29</th>\n",
       "      <td>118000.0</td>\n",
       "      <td>54.0</td>\n",
       "      <td>-34.615847</td>\n",
       "      <td>-58.459957</td>\n",
       "      <td>Caballito</td>\n",
       "    </tr>\n",
       "    <tr>\n",
       "      <th>40</th>\n",
       "      <td>57000.0</td>\n",
       "      <td>42.0</td>\n",
       "      <td>-34.625222</td>\n",
       "      <td>-58.382382</td>\n",
       "      <td>Constitución</td>\n",
       "    </tr>\n",
       "    <tr>\n",
       "      <th>41</th>\n",
       "      <td>90000.0</td>\n",
       "      <td>50.0</td>\n",
       "      <td>-34.610610</td>\n",
       "      <td>-58.412511</td>\n",
       "      <td>Once</td>\n",
       "    </tr>\n",
       "  </tbody>\n",
       "</table>\n",
       "</div>"
      ],
      "text/plain": [
       "    price_aprox_usd  surface_covered_in_m2        lat        lon neighbourhood\n",
       "4          129000.0                   70.0 -34.584651 -58.454693     Chacarita\n",
       "9           87000.0                   42.0 -34.638979 -58.500115    Villa Luro\n",
       "29         118000.0                   54.0 -34.615847 -58.459957     Caballito\n",
       "40          57000.0                   42.0 -34.625222 -58.382382  Constitución\n",
       "41          90000.0                   50.0 -34.610610 -58.412511          Once"
      ]
     },
     "execution_count": 8,
     "metadata": {},
     "output_type": "execute_result"
    }
   ],
   "source": [
    "df.head()"
   ]
  },
  {
   "cell_type": "code",
   "execution_count": 31,
   "id": "0e2e4840",
   "metadata": {},
   "outputs": [],
   "source": [
    "y_train = df[\"price_aprox_usd\"]\n",
    "X_train = df.drop(columns=[\"price_aprox_usd\"])"
   ]
  },
  {
   "cell_type": "code",
   "execution_count": 10,
   "id": "0da766b2",
   "metadata": {},
   "outputs": [
    {
     "data": {
      "image/png": "[encoded data removed]",
      "text/plain": [
       "<Figure size 432x288 with 1 Axes>"
      ]
     },
     "metadata": {
      "needs_background": "light"
     },
     "output_type": "display_data"
    }
   ],
   "source": [
    "\n",
    "plt.scatter(data=df, x=\"surface_covered_in_m2\", y=\"price_aprox_usd\")\n",
    "plt.ylabel(\"Price [USD]\")\n",
    "plt.xlabel(\"Surface Covered [square meter]\")\n",
    "plt.title(\"Apartment distribution by surface covered\")\n",
    "plt.show()"
   ]
  },
  {
   "cell_type": "code",
   "execution_count": 11,
   "id": "5402dee5",
   "metadata": {},
   "outputs": [
    {
     "data": {
      "text/plain": [
       "139194.3061388684"
      ]
     },
     "execution_count": 11,
     "metadata": {},
     "output_type": "execute_result"
    }
   ],
   "source": [
    "y_mean = y_train.mean()\n",
    "y_mean"
   ]
  },
  {
   "cell_type": "code",
   "execution_count": 12,
   "id": "c3051f18",
   "metadata": {},
   "outputs": [
    {
     "data": {
      "text/plain": [
       "[139194.3061388684,\n",
       " 139194.3061388684,\n",
       " 139194.3061388684,\n",
       " 139194.3061388684,\n",
       " 139194.3061388684]"
      ]
     },
     "execution_count": 12,
     "metadata": {},
     "output_type": "execute_result"
    }
   ],
   "source": [
    "y_pred_baseline = [y_mean] * len(y_train)\n",
    "y_pred_baseline[:5]"
   ]
  },
  {
   "cell_type": "code",
   "execution_count": 13,
   "id": "b0c145e5",
   "metadata": {},
   "outputs": [
    {
     "data": {
      "text/plain": [
       "49755.22368405096"
      ]
     },
     "execution_count": 13,
     "metadata": {},
     "output_type": "execute_result"
    }
   ],
   "source": [
    "baseline_mae = mae(y_train, y_pred_baseline)\n",
    "baseline_mae"
   ]
  },
  {
   "cell_type": "code",
   "execution_count": 14,
   "id": "9e7b9a6d",
   "metadata": {},
   "outputs": [
    {
     "data": {
      "text/plain": [
       "Pipeline(steps=[('onehotencoder',\n",
       "                 OneHotEncoder(cols=['neighbourhood'], use_cat_names=True)),\n",
       "                ('simpleimputer', SimpleImputer()), ('ridge', Ridge())])"
      ]
     },
     "execution_count": 14,
     "metadata": {},
     "output_type": "execute_result"
    }
   ],
   "source": [
    "model = make_pipeline(\n",
    "    OneHotEncoder(use_cat_names=True),\n",
    "    SimpleImputer(),\n",
    "    Ridge()\n",
    ")\n",
    "model.fit(X_train, y_train)"
   ]
  },
  {
   "cell_type": "code",
   "execution_count": 15,
   "id": "c04a1d8f",
   "metadata": {},
   "outputs": [
    {
     "data": {
      "text/plain": [
       "26979.33059888244"
      ]
     },
     "execution_count": 15,
     "metadata": {},
     "output_type": "execute_result"
    }
   ],
   "source": [
    "y_pred_training = model.predict(X_train)\n",
    "training_mae = mae(y_train, y_pred_training)\n",
    "training_mae"
   ]
  },
  {
   "cell_type": "code",
   "execution_count": 16,
   "id": "f8fe1cdc",
   "metadata": {},
   "outputs": [
    {
     "data": {
      "text/plain": [
       "Index(['price_aprox_usd', 'surface_covered_in_m2', 'lat', 'lon',\n",
       "       'neighbourhood'],\n",
       "      dtype='object')"
      ]
     },
     "execution_count": 16,
     "metadata": {},
     "output_type": "execute_result"
    }
   ],
   "source": [
    "df.columns"
   ]
  },
  {
   "cell_type": "code",
   "execution_count": 17,
   "id": "dc85b1c7",
   "metadata": {},
   "outputs": [],
   "source": [
    "test = {\n",
    "    'surface_covered_in_m2': 36.0, \n",
    "    'lat': -34.596715, \n",
    "    'lon': -58.444045,\n",
    "    'neighbourhood': \"Villa Crespo\"\n",
    "}"
   ]
  },
  {
   "cell_type": "code",
   "execution_count": 18,
   "id": "25ddc755",
   "metadata": {},
   "outputs": [],
   "source": [
    "test = df[10:400]"
   ]
  },
  {
   "cell_type": "code",
   "execution_count": 19,
   "id": "8ab81514",
   "metadata": {},
   "outputs": [
    {
     "data": {
      "text/plain": [
       "(390, 5)"
      ]
     },
     "execution_count": 19,
     "metadata": {},
     "output_type": "execute_result"
    }
   ],
   "source": [
    "test.shape"
   ]
  },
  {
   "cell_type": "code",
   "execution_count": 20,
   "id": "616a9b3a",
   "metadata": {},
   "outputs": [],
   "source": [
    "X_test =  test.drop(columns=\"price_aprox_usd\")"
   ]
  },
  {
   "cell_type": "code",
   "execution_count": 21,
   "id": "57cbcb21",
   "metadata": {},
   "outputs": [],
   "source": [
    "y_test = test[\"price_aprox_usd\"]"
   ]
  },
  {
   "cell_type": "code",
   "execution_count": 22,
   "id": "d6fd7ab4",
   "metadata": {},
   "outputs": [],
   "source": [
    "y_predict_test = model.predict(X_test)"
   ]
  },
  {
   "cell_type": "code",
   "execution_count": 23,
   "id": "00f417f1",
   "metadata": {},
   "outputs": [
    {
     "data": {
      "text/plain": [
       "26811.873506053005"
      ]
     },
     "execution_count": 23,
     "metadata": {},
     "output_type": "execute_result"
    }
   ],
   "source": [
    "test_mae = mae(y_test, y_predict_test)\n",
    "test_mae"
   ]
  },
  {
   "cell_type": "code",
   "execution_count": 24,
   "id": "3f33727b",
   "metadata": {},
   "outputs": [
    {
     "name": "stdout",
     "output_type": "stream",
     "text": [
      "\n",
      "    Baseline mean absolute error = 49755.22368405096\n",
      "    Train mean absolute error = 26979.33059888244\n",
      "    Test mean absolute error = 26811.873506053005\n",
      "\n"
     ]
    }
   ],
   "source": [
    "print(f'''\n",
    "    Baseline mean absolute error = {baseline_mae}\n",
    "    Train mean absolute error = {training_mae}\n",
    "    Test mean absolute error = {test_mae}\n",
    "''')"
   ]
  },
  {
   "cell_type": "code",
   "execution_count": 25,
   "id": "1df06842",
   "metadata": {},
   "outputs": [],
   "source": [
    "coefficient = model[\"ridge\"].coef_"
   ]
  },
  {
   "cell_type": "code",
   "execution_count": 27,
   "id": "5d6089b3",
   "metadata": {},
   "outputs": [],
   "source": [
    "features = model[\"onehotencoder\"].get_feature_names()"
   ]
  },
  {
   "cell_type": "code",
   "execution_count": 28,
   "id": "ca303f2b",
   "metadata": {},
   "outputs": [
    {
     "data": {
      "text/html": [
       "<div>\n",
       "<style scoped>\n",
       "    .dataframe tbody tr th:only-of-type {\n",
       "        vertical-align: middle;\n",
       "    }\n",
       "\n",
       "    .dataframe tbody tr th {\n",
       "        vertical-align: top;\n",
       "    }\n",
       "\n",
       "    .dataframe thead th {\n",
       "        text-align: right;\n",
       "    }\n",
       "</style>\n",
       "<table border=\"1\" class=\"dataframe\">\n",
       "  <thead>\n",
       "    <tr style=\"text-align: right;\">\n",
       "      <th></th>\n",
       "      <th>coefficient</th>\n",
       "    </tr>\n",
       "    <tr>\n",
       "      <th>Features</th>\n",
       "      <th></th>\n",
       "    </tr>\n",
       "  </thead>\n",
       "  <tbody>\n",
       "    <tr>\n",
       "      <th>surface_covered_in_m2</th>\n",
       "      <td>2351.633665</td>\n",
       "    </tr>\n",
       "    <tr>\n",
       "      <th>lat</th>\n",
       "      <td>69202.045086</td>\n",
       "    </tr>\n",
       "    <tr>\n",
       "      <th>lon</th>\n",
       "      <td>70516.058104</td>\n",
       "    </tr>\n",
       "    <tr>\n",
       "      <th>neighbourhood_Chacarita</th>\n",
       "      <td>3507.047916</td>\n",
       "    </tr>\n",
       "    <tr>\n",
       "      <th>neighbourhood_Villa Luro</th>\n",
       "      <td>-1312.919336</td>\n",
       "    </tr>\n",
       "  </tbody>\n",
       "</table>\n",
       "</div>"
      ],
      "text/plain": [
       "                           coefficient\n",
       "Features                              \n",
       "surface_covered_in_m2      2351.633665\n",
       "lat                       69202.045086\n",
       "lon                       70516.058104\n",
       "neighbourhood_Chacarita    3507.047916\n",
       "neighbourhood_Villa Luro  -1312.919336"
      ]
     },
     "execution_count": 28,
     "metadata": {},
     "output_type": "execute_result"
    }
   ],
   "source": [
    "features_coef = pd.DataFrame(coefficient, features)\n",
    "features_coef = pd.DataFrame(features_coef[0].rename(\"coefficient\"))\n",
    "features_coef.index = features_coef.index.rename(\"Features\")\n",
    "features_coef.head()"
   ]
  },
  {
   "cell_type": "code",
   "execution_count": 32,
   "id": "cd638bcd",
   "metadata": {},
   "outputs": [
    {
     "data": {
      "text/plain": [
       "Index(['surface_covered_in_m2', 'lat', 'lon', 'neighbourhood'], dtype='object')"
      ]
     },
     "execution_count": 32,
     "metadata": {},
     "output_type": "execute_result"
    }
   ],
   "source": [
    "X_train.columns\n"
   ]
  },
  {
   "cell_type": "code",
   "execution_count": 59,
   "id": "4ec645c0",
   "metadata": {},
   "outputs": [],
   "source": [
    "def test_model(surface_covered_in_m2, lat, lon, neighbourhood):\n",
    "    \n",
    "    prediction = {\n",
    "        \"surface_covered_in_m2\": surface_covered_in_m2,\n",
    "        \"lat\": lat,\n",
    "        \"lon\": lon,\n",
    "        \"neighbourhood\": neighbourhood\n",
    "    }\n",
    "    df_prediction = pd.DataFrame(prediction, index=[0])\n",
    "    predicted = print(f\"${round(model.predict(df_prediction)[0], 2)}\")\n",
    "    return predicted"
   ]
  },
  {
   "cell_type": "code",
   "execution_count": 60,
   "id": "f8be0009",
   "metadata": {},
   "outputs": [
    {
     "data": {
      "text/html": [
       "<div>\n",
       "<style scoped>\n",
       "    .dataframe tbody tr th:only-of-type {\n",
       "        vertical-align: middle;\n",
       "    }\n",
       "\n",
       "    .dataframe tbody tr th {\n",
       "        vertical-align: top;\n",
       "    }\n",
       "\n",
       "    .dataframe thead th {\n",
       "        text-align: right;\n",
       "    }\n",
       "</style>\n",
       "<table border=\"1\" class=\"dataframe\">\n",
       "  <thead>\n",
       "    <tr style=\"text-align: right;\">\n",
       "      <th></th>\n",
       "      <th>price_aprox_usd</th>\n",
       "      <th>surface_covered_in_m2</th>\n",
       "      <th>lat</th>\n",
       "      <th>lon</th>\n",
       "      <th>neighbourhood</th>\n",
       "    </tr>\n",
       "  </thead>\n",
       "  <tbody>\n",
       "    <tr>\n",
       "      <th>131</th>\n",
       "      <td>125000.0</td>\n",
       "      <td>74.0</td>\n",
       "      <td>-34.603466</td>\n",
       "      <td>-58.415972</td>\n",
       "      <td>Almagro</td>\n",
       "    </tr>\n",
       "  </tbody>\n",
       "</table>\n",
       "</div>"
      ],
      "text/plain": [
       "     price_aprox_usd  surface_covered_in_m2        lat        lon  \\\n",
       "131         125000.0                   74.0 -34.603466 -58.415972   \n",
       "\n",
       "    neighbourhood  \n",
       "131       Almagro  "
      ]
     },
     "execution_count": 60,
     "metadata": {},
     "output_type": "execute_result"
    }
   ],
   "source": [
    "df[13:14]"
   ]
  },
  {
   "cell_type": "code",
   "execution_count": 61,
   "id": "5313b5a6",
   "metadata": {},
   "outputs": [
    {
     "name": "stdout",
     "output_type": "stream",
     "text": [
      "$163597.52\n"
     ]
    }
   ],
   "source": [
    "test_model(74.0, -34.603466, -58.415972, \"Almagro\")"
   ]
  },
  {
   "cell_type": "code",
   "execution_count": null,
   "id": "a7f7c70c",
   "metadata": {},
   "outputs": [],
   "source": []
  },
  {
   "cell_type": "code",
   "execution_count": null,
   "id": "08a48662",
   "metadata": {},
   "outputs": [],
   "source": []
  },
  {
   "cell_type": "code",
   "execution_count": null,
   "id": "45e38b70",
   "metadata": {},
   "outputs": [],
   "source": []
  }
 ],
 "metadata": {
  "kernelspec": {
   "display_name": "Python 3",
   "language": "python",
   "name": "python3"
  },
  "language_info": {
   "codemirror_mode": {
    "name": "ipython",
    "version": 3
   },
   "file_extension": ".py",
   "mimetype": "text/x-python",
   "name": "python",
   "nbconvert_exporter": "python",
   "pygments_lexer": "ipython3",
   "version": "3.8.8"
  }
 },
 "nbformat": 4,
 "nbformat_minor": 5
}
